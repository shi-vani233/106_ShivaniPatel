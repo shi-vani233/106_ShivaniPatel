{
 "cells": [
  {
   "cell_type": "code",
   "execution_count": 2,
   "id": "9b80e658",
   "metadata": {},
   "outputs": [],
   "source": [
    "import numpy as np\n",
    "import torch"
   ]
  },
  {
   "cell_type": "markdown",
   "id": "9fc82e14",
   "metadata": {},
   "source": [
    "A tensor is a number, vector, matrix or any n-dimensional array."
   ]
  },
  {
   "cell_type": "markdown",
   "id": "55824f82",
   "metadata": {},
   "source": [
    "## Problem Statement"
   ]
  },
  {
   "cell_type": "markdown",
   "id": "23132f63",
   "metadata": {},
   "source": [
    "We'll create a model that predicts crop yeilds for apples (*target variable*) by looking at the average temperature, rainfall and humidity (*input variables or features*) in different regions. \n",
    "\n",
    "Here's the training data:\n",
    "\n",
    ">Temp | Rain | Humidity | Prediction\n",
    ">--- | --- | --- | ---\n",
    "> 73 | 67 | 43 | 56\n",
    "> 91 | 88 | 64 | 81\n",
    "> 87 | 134 | 58 | 119\n",
    "> 102 | 43 | 37 | 22\n",
    "> 69 | 96 | 70 | 103\n",
    "\n",
    "In a **linear regression** model, each target variable is estimated to be a weighted sum of the input variables, offset by some constant, known as a bias :\n",
    "\n",
    "```\n",
    "yeild_apple  = w11 * temp + w12 * rainfall + w13 * humidity + b1\n",
    "```\n",
    "\n",
    "It means that the yield of apples is a linear or planar function of the temperature, rainfall & humidity.\n",
    "\n",
    "\n",
    "\n",
    "**Our objective**: Find a suitable set of *weights* and *biases* using the training data, to make accurate predictions."
   ]
  },
  {
   "cell_type": "markdown",
   "id": "c3dfbc16",
   "metadata": {},
   "source": [
    "## Training Data\n",
    "The training data can be represented using 2 matrices (inputs and targets), each with one row per observation and one column for variable."
   ]
  },
  {
   "cell_type": "code",
   "execution_count": 3,
   "id": "5889f21b",
   "metadata": {},
   "outputs": [],
   "source": [
    "\n",
    "# Input (temp, rainfall, humidity)\n",
    "inputs = np.array([[73, 67, 43], \n",
    "                   [91, 88, 64], \n",
    "                   [87, 134, 58], \n",
    "                   [102, 43, 37], \n",
    "                   [69, 96, 70]], dtype='float32')\n",
    "\n",
    "# Target (apples)\n",
    "targets = np.array([[56], \n",
    "                    [81], \n",
    "                    [119], \n",
    "                    [22], \n",
    "                    [103]], dtype='float32')"
   ]
  },
  {
   "cell_type": "markdown",
   "id": "549a7607",
   "metadata": {},
   "source": [
    "Before we build a model, we need to convert inputs and targets to PyTorch tensors.\n",
    "\n"
   ]
  },
  {
   "cell_type": "code",
   "execution_count": 4,
   "id": "d7d230b9",
   "metadata": {},
   "outputs": [
    {
     "name": "stdout",
     "output_type": "stream",
     "text": [
      "tensor inputs:\n",
      " tensor([[ 73.,  67.,  43.],\n",
      "        [ 91.,  88.,  64.],\n",
      "        [ 87., 134.,  58.],\n",
      "        [102.,  43.,  37.],\n",
      "        [ 69.,  96.,  70.]])\n",
      "\n",
      "tensor targets:\n",
      " tensor([[ 56.],\n",
      "        [ 81.],\n",
      "        [119.],\n",
      "        [ 22.],\n",
      "        [103.]])\n"
     ]
    }
   ],
   "source": [
    "# Convert inputs and targets to tensors\n",
    "tensor_inputs = torch.tensor(inputs)\n",
    "print(\"tensor inputs:\\n\",tensor_inputs)\n",
    "\n",
    "tensor_targets = torch.tensor(targets)\n",
    "print(\"\\ntensor targets:\\n\",tensor_targets)"
   ]
  },
  {
   "cell_type": "markdown",
   "id": "080dd13b",
   "metadata": {},
   "source": [
    "## Linear Regression Model (from scratch)\n",
    "\n",
    "The *weights* and *biases* can also be represented as matrices, initialized with random values. The first row of `w` and the first element of `b` are use to predict the first target variable i.e. yield for apples, and similarly the second for oranges."
   ]
  },
  {
   "cell_type": "code",
   "execution_count": 5,
   "id": "0d61afd3",
   "metadata": {},
   "outputs": [
    {
     "name": "stdout",
     "output_type": "stream",
     "text": [
      "Weights:\n",
      " tensor([[-0.3379,  1.7392, -1.3610]], requires_grad=True)\n",
      "\n",
      "Biases:\n",
      " tensor([-0.7266], requires_grad=True)\n",
      "\n",
      "weights_transpose:\n",
      " tensor([[-0.3379],\n",
      "        [ 1.7392],\n",
      "        [-1.3610]], grad_fn=<TransposeBackward0>)\n"
     ]
    }
   ],
   "source": [
    "# Weights and biases\n",
    "weights = torch.randn(1, 3, requires_grad=True)\n",
    "biases = torch.randn(1, requires_grad=True)\n",
    "weights_transpose = torch.transpose(weights, 0, 1)\n",
    "\n",
    "print(\"Weights:\\n\",weights)\n",
    "print(\"\\nBiases:\\n\",biases)\n",
    "print(\"\\nweights_transpose:\\n\",weights_transpose)"
   ]
  },
  {
   "cell_type": "markdown",
   "id": "0075a625",
   "metadata": {},
   "source": [
    "The *model* is simply a function that performs a matrix multiplication of the input `x` and the weights `w` (transposed) and adds the bias `b` (replicated for each observation).\n",
    "\n",
    "$$\n",
    "\\hspace{2.5cm} X \\hspace{1.1cm} \\times \\hspace{1.2cm} W^T \\hspace{1.2cm}  + \\hspace{1cm} b \\hspace{2cm}\n",
    "$$\n",
    "\n",
    "$$\n",
    "\\left[ \\begin{array}{cc}\n",
    "73 & 67 & 43 \\\\\n",
    "91 & 88 & 64 \\\\\n",
    "\\vdots & \\vdots & \\vdots \\\\\n",
    "69 & 96 & 70\n",
    "\\end{array} \\right]\n",
    "%\n",
    "\\times\n",
    "%\n",
    "\\left[ \\begin{array}{cc}\n",
    "w_{11} & w_{21} \\\\\n",
    "w_{12} & w_{22} \\\\\n",
    "w_{13} & w_{23}\n",
    "\\end{array} \\right]\n",
    "%\n",
    "+\n",
    "%\n",
    "\\left[ \\begin{array}{cc}\n",
    "b_{1} & b_{2} \\\\\n",
    "b_{1} & b_{2} \\\\\n",
    "\\vdots & \\vdots \\\\\n",
    "b_{1} & b_{2} \\\\\n",
    "\\end{array} \\right]\n",
    "$$"
   ]
  },
  {
   "cell_type": "code",
   "execution_count": 6,
   "id": "bdde492f",
   "metadata": {},
   "outputs": [],
   "source": [
    "# Define the model\n",
    "def fit(X, W_t, b): \n",
    "    return (X @ W_t) + b"
   ]
  },
  {
   "cell_type": "markdown",
   "id": "19a6d521",
   "metadata": {},
   "source": [
    "The matrix obtained by passing the input data to the model is a set of predictions for the target variables."
   ]
  },
  {
   "cell_type": "code",
   "execution_count": 7,
   "id": "24cde1ad",
   "metadata": {},
   "outputs": [
    {
     "name": "stdout",
     "output_type": "stream",
     "text": [
      "tensor([[ 32.6065],\n",
      "        [ 34.4650],\n",
      "        [123.9837],\n",
      "        [-10.7653],\n",
      "        [ 47.6452]], grad_fn=<AddBackward0>)\n"
     ]
    }
   ],
   "source": [
    "\n",
    "# Generate predictions\n",
    "prediction = fit(tensor_inputs, weights_transpose, biases)\n",
    "print(prediction)"
   ]
  },
  {
   "cell_type": "code",
   "execution_count": 8,
   "id": "978386f2",
   "metadata": {},
   "outputs": [
    {
     "name": "stdout",
     "output_type": "stream",
     "text": [
      "tensor([[ 56.],\n",
      "        [ 81.],\n",
      "        [119.],\n",
      "        [ 22.],\n",
      "        [103.]])\n"
     ]
    }
   ],
   "source": [
    "# Compare with targets\n",
    "print(tensor_targets)\n"
   ]
  },
  {
   "cell_type": "markdown",
   "id": "0c28ea58",
   "metadata": {},
   "source": [
    "Because we've started with random weights and biases, the model does not perform a good job of predicting the target varaibles."
   ]
  },
  {
   "cell_type": "markdown",
   "id": "a947a86c",
   "metadata": {},
   "source": [
    "## Loss Function\n",
    "\n",
    "We can compare the predictions with the actual targets, using the following method: \n",
    "* Calculate the difference between the two matrices (`preds` and `targets`).\n",
    "* Square all elements of the difference matrix to remove negative values.\n",
    "* Calculate the average of the elements in the resulting matrix.\n",
    "\n",
    "The result is a single number, known as the **mean squared error** (MSE)."
   ]
  },
  {
   "cell_type": "code",
   "execution_count": 9,
   "id": "fce0fa88",
   "metadata": {},
   "outputs": [],
   "source": [
    "# MSE loss\n",
    "# help(torch.numel)\n",
    "def mse_loss(pred, target):\n",
    "    temp = pred - target\n",
    "    return torch.sum(temp * temp) / temp.numel()"
   ]
  },
  {
   "cell_type": "code",
   "execution_count": 10,
   "id": "29b52333",
   "metadata": {},
   "outputs": [
    {
     "name": "stdout",
     "output_type": "stream",
     "text": [
      "Loss:  tensor(1375.0640, grad_fn=<DivBackward0>)\n"
     ]
    }
   ],
   "source": [
    "# Compute loss\n",
    "loss = mse_loss(prediction, tensor_targets)\n",
    "print(\"Loss: \", loss)\n"
   ]
  },
  {
   "cell_type": "markdown",
   "id": "fa725b49",
   "metadata": {},
   "source": [
    "The resulting number is called the **loss**, because it indicates how bad the model is at predicting the target variables. Lower the loss, better the model. "
   ]
  },
  {
   "cell_type": "markdown",
   "id": "9e6aeda3",
   "metadata": {},
   "source": [
    "## Compute Gradients\n",
    "\n",
    "With PyTorch, we can automatically compute the gradient or derivative of the `loss` w.r.t. to the weights and biases, because they have `requires_grad` set to `True`.\n",
    "\n",
    "More on autograd:  https://pytorch.org/docs/stable/autograd.html#module-torch.autograd"
   ]
  },
  {
   "cell_type": "code",
   "execution_count": 11,
   "id": "dbc473c1",
   "metadata": {},
   "outputs": [],
   "source": [
    "# Compute gradients\n",
    "loss.backward()"
   ]
  },
  {
   "cell_type": "markdown",
   "id": "2df7dfbb",
   "metadata": {},
   "source": [
    "The gradients are stored in the `.grad` property of the respective tensors."
   ]
  },
  {
   "cell_type": "code",
   "execution_count": 12,
   "id": "8679a2fc",
   "metadata": {},
   "outputs": [
    {
     "name": "stdout",
     "output_type": "stream",
     "text": [
      "tensor([[-0.3379,  1.7392, -1.3610]], requires_grad=True)\n",
      "-------------\n",
      "tensor([[-5068.1494, -4687.0420, -3512.9045]])\n"
     ]
    }
   ],
   "source": [
    "# Gradients for weights\n",
    "print(weights, end=\"\\n-------------\\n\")\n",
    "print(weights.grad)"
   ]
  },
  {
   "cell_type": "code",
   "execution_count": 13,
   "id": "8fb0e4f5",
   "metadata": {},
   "outputs": [
    {
     "name": "stdout",
     "output_type": "stream",
     "text": [
      "tensor([-0.7266], requires_grad=True)\n",
      "-------------\n",
      "tensor([-61.2260])\n"
     ]
    }
   ],
   "source": [
    "# Gradients for bias\n",
    "print(biases, end=\"\\n-------------\\n\")\n",
    "print(biases.grad)"
   ]
  },
  {
   "cell_type": "markdown",
   "id": "9a1f5257",
   "metadata": {},
   "source": [
    "A key insight from calculus is that the gradient indicates the rate of change of the loss, or the slope of the loss function w.r.t. the weights and biases. \n",
    "\n",
    "* If a gradient element is **postive**, \n",
    "    * **increasing** the element's value slightly will **increase** the loss.\n",
    "    * **decreasing** the element's value slightly will **decrease** the loss.\n",
    "\n",
    "\n",
    "\n",
    "\n",
    "* If a gradient element is **negative**,\n",
    "    * **increasing** the element's value slightly will **decrease** the loss.\n",
    "    * **decreasing** the element's value slightly will **increase** the loss.\n",
    "    \n",
    "\n",
    "\n",
    "The increase or decrease is proportional to the value of the gradient."
   ]
  },
  {
   "cell_type": "markdown",
   "id": "deb55abd",
   "metadata": {},
   "source": [
    "Finally, we'll reset the gradients to zero before moving forward, because PyTorch accumulates gradients."
   ]
  },
  {
   "cell_type": "code",
   "execution_count": 14,
   "id": "8ab3e393",
   "metadata": {},
   "outputs": [
    {
     "name": "stdout",
     "output_type": "stream",
     "text": [
      "tensor([[0., 0., 0.]])\n",
      "-------\n",
      "tensor([0.])\n"
     ]
    }
   ],
   "source": [
    "# help(biases.grad.zero_)\n",
    "weights.grad.zero_()\n",
    "biases.grad.zero_()\n",
    "print(weights.grad,end=\"\\n-------\\n\")\n",
    "print(biases.grad)"
   ]
  },
  {
   "cell_type": "markdown",
   "id": "09fb11b2",
   "metadata": {},
   "source": [
    "## Adjust weights and biases using gradient descent\n",
    "​\n",
    "We'll reduce the loss and improve our model using the gradient descent algorithm, which has the following steps:\n",
    "​\n",
    "1. Generate predictions\n",
    "2. Calculate the loss\n",
    "3. Compute gradients w.r.t the weights and biases\n",
    "4. Adjust the weights by subtracting a small quantity proportional to the gradient\n",
    "5. Reset the gradients to zero"
   ]
  },
  {
   "cell_type": "code",
   "execution_count": 15,
   "id": "ec4a68a0",
   "metadata": {},
   "outputs": [
    {
     "name": "stdout",
     "output_type": "stream",
     "text": [
      "tensor([[ 32.6065],\n",
      "        [ 34.4650],\n",
      "        [123.9837],\n",
      "        [-10.7653],\n",
      "        [ 47.6452]], grad_fn=<AddBackward0>)\n"
     ]
    }
   ],
   "source": [
    "# Generate predictions\n",
    "prediction = fit(tensor_inputs, weights.t(), biases)\n",
    "print(prediction)"
   ]
  },
  {
   "cell_type": "code",
   "execution_count": 16,
   "id": "b235c156",
   "metadata": {},
   "outputs": [
    {
     "name": "stdout",
     "output_type": "stream",
     "text": [
      "tensor(1375.0640, grad_fn=<DivBackward0>)\n"
     ]
    }
   ],
   "source": [
    "# Calculate the loss\n",
    "loss = mse_loss(prediction, tensor_targets)\n",
    "print(loss)"
   ]
  },
  {
   "cell_type": "code",
   "execution_count": 17,
   "id": "931d7252",
   "metadata": {},
   "outputs": [],
   "source": [
    "# Compute gradients\n",
    "loss.backward()"
   ]
  },
  {
   "cell_type": "code",
   "execution_count": 18,
   "id": "f12ace7a",
   "metadata": {},
   "outputs": [],
   "source": [
    "\n",
    "# Adjust weights & reset gradients\n",
    "with torch.no_grad():\n",
    "    weights -= weights.grad * 1e-5\n",
    "    biases -= biases.grad * 1e-5\n",
    "    weights.grad.zero_()\n",
    "    biases.grad.zero_()"
   ]
  },
  {
   "cell_type": "code",
   "execution_count": 19,
   "id": "164409fd",
   "metadata": {},
   "outputs": [
    {
     "name": "stdout",
     "output_type": "stream",
     "text": [
      "tensor([[-0.2872,  1.7860, -1.3259]], requires_grad=True)\n"
     ]
    }
   ],
   "source": [
    "\n",
    "print(weights)"
   ]
  },
  {
   "cell_type": "markdown",
   "id": "96b887ee",
   "metadata": {},
   "source": [
    "With the new weights and biases, the model should have a lower loss."
   ]
  },
  {
   "cell_type": "code",
   "execution_count": 20,
   "id": "26bd008c",
   "metadata": {},
   "outputs": [
    {
     "name": "stdout",
     "output_type": "stream",
     "text": [
      "tensor(881.8283, grad_fn=<DivBackward0>)\n"
     ]
    }
   ],
   "source": [
    "\n",
    "# Calculate loss\n",
    "prediction = fit(tensor_inputs, weights.t(), biases)\n",
    "loss = mse_loss(prediction, tensor_targets)\n",
    "print(loss)"
   ]
  },
  {
   "cell_type": "markdown",
   "id": "6a5917b8",
   "metadata": {},
   "source": [
    "## Train for multiple epochs\n",
    "\n",
    "To reduce the loss further, we repeat the process of adjusting the weights and biases using the gradients multiple times. Each iteration is called an epoch."
   ]
  },
  {
   "cell_type": "code",
   "execution_count": 21,
   "id": "b5f9b6af",
   "metadata": {},
   "outputs": [],
   "source": [
    "# Train for 100 epochs\n",
    "for i in range(100):\n",
    "    prediction = fit(tensor_inputs, weights.t(), biases)\n",
    "    loss = mse_loss(prediction, tensor_targets)\n",
    "    loss.backward()\n",
    "    with torch.no_grad():\n",
    "        weights -= weights.grad * 1e-5\n",
    "        biases -= biases.grad * 1e-5\n",
    "        weights.grad.zero_()\n",
    "        biases.grad.zero_()"
   ]
  },
  {
   "cell_type": "code",
   "execution_count": 22,
   "id": "2409e0d3",
   "metadata": {},
   "outputs": [
    {
     "name": "stdout",
     "output_type": "stream",
     "text": [
      "tensor(316.5410, grad_fn=<DivBackward0>)\n"
     ]
    }
   ],
   "source": [
    "# Calculate loss\n",
    "prediction = fit(tensor_inputs, weights.t(), biases)\n",
    "loss = mse_loss(prediction, tensor_targets)\n",
    "print(loss)"
   ]
  },
  {
   "cell_type": "code",
   "execution_count": 23,
   "id": "0ac533e8",
   "metadata": {},
   "outputs": [
    {
     "name": "stdout",
     "output_type": "stream",
     "text": [
      "tensor([[ 57.6933],\n",
      "        [ 69.2333],\n",
      "        [147.3477],\n",
      "        [ 23.5105],\n",
      "        [ 77.7907]], grad_fn=<AddBackward0>)\n"
     ]
    }
   ],
   "source": [
    "# Print predictions\n",
    "print(prediction)"
   ]
  },
  {
   "cell_type": "code",
   "execution_count": 24,
   "id": "56bf8d03",
   "metadata": {},
   "outputs": [
    {
     "name": "stdout",
     "output_type": "stream",
     "text": [
      "tensor([[ 56.],\n",
      "        [ 81.],\n",
      "        [119.],\n",
      "        [ 22.],\n",
      "        [103.]])\n"
     ]
    }
   ],
   "source": [
    "# Print targets\n",
    "print(tensor_targets)"
   ]
  },
  {
   "cell_type": "code",
   "execution_count": null,
   "id": "348b41fc",
   "metadata": {},
   "outputs": [],
   "source": []
  }
 ],
 "metadata": {
  "kernelspec": {
   "display_name": "Python 3",
   "language": "python",
   "name": "python3"
  },
  "language_info": {
   "codemirror_mode": {
    "name": "ipython",
    "version": 3
   },
   "file_extension": ".py",
   "mimetype": "text/x-python",
   "name": "python",
   "nbconvert_exporter": "python",
   "pygments_lexer": "ipython3",
   "version": "3.8.9"
  }
 },
 "nbformat": 4,
 "nbformat_minor": 5
}
