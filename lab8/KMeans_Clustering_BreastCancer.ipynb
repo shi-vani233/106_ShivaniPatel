{
 "cells": [
  {
   "cell_type": "code",
   "execution_count": 1,
   "id": "65add5aa",
   "metadata": {},
   "outputs": [],
   "source": [
    "import numpy as np \n",
    "import pandas as pd \n",
    "from sklearn import datasets\n",
    "from sklearn.cluster import KMeans\n",
    "import matplotlib.pyplot as plt"
   ]
  },
  {
   "cell_type": "code",
   "execution_count": 2,
   "id": "adab0db3",
   "metadata": {},
   "outputs": [
    {
     "name": "stdout",
     "output_type": "stream",
     "text": [
      "(569, 30)\n",
      "(569,)\n"
     ]
    }
   ],
   "source": [
    "dataset=datasets.load_breast_cancer()\n",
    "dataset\n",
    "\n",
    "print(dataset.data.shape)\n",
    "print(dataset.target.shape)"
   ]
  },
  {
   "cell_type": "code",
   "execution_count": 3,
   "id": "e22236de",
   "metadata": {},
   "outputs": [
    {
     "name": "stdout",
     "output_type": "stream",
     "text": [
      "['mean radius' 'mean texture' 'mean perimeter' 'mean area'\n",
      " 'mean smoothness' 'mean compactness' 'mean concavity'\n",
      " 'mean concave points' 'mean symmetry' 'mean fractal dimension'\n",
      " 'radius error' 'texture error' 'perimeter error' 'area error'\n",
      " 'smoothness error' 'compactness error' 'concavity error'\n",
      " 'concave points error' 'symmetry error' 'fractal dimension error'\n",
      " 'worst radius' 'worst texture' 'worst perimeter' 'worst area'\n",
      " 'worst smoothness' 'worst compactness' 'worst concavity'\n",
      " 'worst concave points' 'worst symmetry' 'worst fractal dimension']\n"
     ]
    }
   ],
   "source": [
    "print(dataset.feature_names)"
   ]
  },
  {
   "cell_type": "code",
   "execution_count": 4,
   "id": "44cc07cf",
   "metadata": {},
   "outputs": [
    {
     "name": "stdout",
     "output_type": "stream",
     "text": [
      "['malignant' 'benign']\n"
     ]
    }
   ],
   "source": [
    "print(dataset.target_names)"
   ]
  },
  {
   "cell_type": "code",
   "execution_count": 5,
   "id": "6ce96648",
   "metadata": {},
   "outputs": [
    {
     "data": {
      "image/png": "[encoded data removed]",
      "text/plain": [
       "<Figure size 432x288 with 1 Axes>"
      ]
     },
     "metadata": {
      "needs_background": "light"
     },
     "output_type": "display_data"
    }
   ],
   "source": [
    "plt.scatter(dataset.data[:, 0], dataset.target)\n",
    "plt.xlabel('Features')\n",
    "plt.ylabel('Type of cancer') # 1-malignant # 0-benign\n",
    "plt.show()"
   ]
  },
  {
   "cell_type": "code",
   "execution_count": 6,
   "id": "f5106a7a",
   "metadata": {},
   "outputs": [
    {
     "name": "stdout",
     "output_type": "stream",
     "text": [
      "[7 7 0 1 0 6 0 6 6 6 8 5 5 8 6 8 8 5 7 6 1 4 8 2 7 5 8 5 5 5 0 6 5 0 5 5 6\n",
      " 1 6 6 6 1 0 6 6 0 4 6 1 6 1 6 1 5 8 1 7 8 1 4 4 4 8 4 6 8 4 1 4 1 7 4 0 6\n",
      " 1 5 1 0 0 1 1 1 2 5 1 0 6 0 1 6 6 6 6 6 8 0 1 4 1 6 6 4 1 4 4 6 1 1 2 1 4\n",
      " 1 6 4 4 1 4 8 5 5 1 0 2 6 1 6 6 0 6 0 1 8 5 8 0 1 1 1 8 4 4 5 1 1 4 1 1 6\n",
      " 6 6 1 4 4 4 6 1 5 8 1 1 1 0 7 1 2 6 4 5 0 6 1 8 8 4 4 4 4 8 1 1 9 7 5 1 8\n",
      " 4 5 1 1 1 6 1 4 6 6 1 6 5 0 8 1 5 7 8 1 8 4 5 1 8 0 1 2 8 6 6 1 4 7 7 6 6\n",
      " 4 8 6 6 4 6 1 6 5 1 1 7 4 6 9 0 6 5 6 1 1 6 0 4 1 1 4 1 7 1 7 5 7 6 7 8 5\n",
      " 8 7 5 5 8 5 9 4 6 1 4 6 1 2 4 5 1 1 5 6 6 0 1 0 8 1 1 1 1 4 1 6 6 1 1 1 6\n",
      " 4 1 6 4 7 1 0 4 1 1 1 4 6 6 1 6 1 1 4 1 1 0 4 1 4 0 1 7 1 1 6 1 8 8 8 1 4\n",
      " 1 1 5 1 7 4 9 6 4 4 0 1 4 1 8 1 1 1 8 9 8 1 1 1 6 4 4 1 1 1 8 6 0 0 1 9 7\n",
      " 5 6 0 7 6 8 4 6 6 1 1 4 1 1 1 6 1 6 1 5 4 4 5 7 1 6 6 1 1 1 5 1 1 1 1 1 8\n",
      " 1 5 1 1 1 4 8 8 1 4 0 1 1 1 6 1 6 4 4 4 1 4 1 6 1 0 0 6 6 1 6 6 6 1 5 6 4\n",
      " 5 1 5 6 6 7 1 0 1 6 1 6 1 1 1 4 0 3 6 1 6 6 6 4 5 1 4 1 8 1 4 1 6 6 1 8 1\n",
      " 6 6 6 8 1 6 0 1 8 1 5 5 1 6 6 1 1 0 0 6 6 1 2 4 4 1 4 8 8 1 6 6 6 8 1 0 0\n",
      " 1 1 4 2 4 6 4 4 6 1 6 1 1 1 6 0 4 7 6 1 4 4 1 6 6 1 6 6 4 4 4 1 4 4 1 4 1\n",
      " 4 4 4 6 1 6 4 8 7 7 0 8 7 4]\n",
      "[[1.92370455e+01 2.15511364e+01 1.26929545e+02 1.15209091e+03\n",
      "  9.98402273e-02 1.43502273e-01 1.68175455e-01 9.62018182e-02\n",
      "  1.92659091e-01 6.00218182e-02 7.01315909e-01 1.23509773e+00\n",
      "  4.85611364e+00 8.46159091e+01 6.81850000e-03 3.22913636e-02\n",
      "  4.36859091e-02 1.60336591e-02 2.21411364e-02 3.87425000e-03\n",
      "  2.31072727e+01 2.85086364e+01 1.53831818e+02 1.62825000e+03\n",
      "  1.38845455e-01 3.48622727e-01 4.39375000e-01 1.83934091e-01\n",
      "  3.16275000e-01 8.50120455e-02]\n",
      " [1.21398295e+01 1.81243750e+01 7.80391477e+01 4.53930682e+02\n",
      "  9.30579545e-02 7.96476705e-02 4.52235324e-02 2.59481023e-02\n",
      "  1.74372727e-01 6.23869886e-02 2.76667614e-01 1.19831080e+00\n",
      "  1.96479489e+00 2.04931250e+01 6.79651136e-03 2.03912898e-02\n",
      "  2.40284352e-02 9.64013636e-03 2.03964205e-02 3.30967330e-03\n",
      "  1.34010227e+01 2.41963068e+01 8.71398295e+01 5.49269318e+02\n",
      "  1.26916705e-01 1.92223466e-01 1.75752653e-01 7.78560852e-02\n",
      "  2.78232386e-01 7.95895455e-02]\n",
      " [2.37500000e+01 2.11944444e+01 1.59244444e+02 1.75011111e+03\n",
      "  1.07433333e-01 1.92500000e-01 2.63044444e-01 1.40782222e-01\n",
      "  1.94166667e-01 6.16344444e-02 1.25552222e+00 1.39952222e+00\n",
      "  9.29744444e+00 1.90815556e+02 8.61422222e-03 4.69666667e-02\n",
      "  5.96800000e-02 1.74600000e-02 2.50555556e-02 4.80877778e-03\n",
      "  2.87344444e+01 2.74311111e+01 1.97022222e+02 2.48000000e+03\n",
      "  1.39488889e-01 4.17266667e-01 5.16111111e-01 2.28388889e-01\n",
      "  2.95433333e-01 8.48355556e-02]\n",
      " [2.74200000e+01 2.62700000e+01 1.86900000e+02 2.50100000e+03\n",
      "  1.08400000e-01 1.98800000e-01 3.63500000e-01 1.68900000e-01\n",
      "  2.06100000e-01 5.62300000e-02 2.54700000e+00 1.30600000e+00\n",
      "  1.86500000e+01 5.42200000e+02 7.65000000e-03 5.37400000e-02\n",
      "  8.05500000e-02 2.59800000e-02 1.69700000e-02 4.55800000e-03\n",
      "  3.60400000e+01 3.13700000e+01 2.51200000e+02 4.25400000e+03\n",
      "  1.35700000e-01 4.25600000e-01 6.83300000e-01 2.62500000e-01\n",
      "  2.64100000e-01 7.42700000e-02]\n",
      " [9.87515385e+00 1.78310989e+01 6.31275824e+01 2.99732967e+02\n",
      "  9.64635165e-02 8.09469231e-02 4.46973846e-02 1.89206154e-02\n",
      "  1.83812088e-01 6.83807692e-02 2.95191209e-01 1.51460549e+00\n",
      "  2.02103187e+00 1.79611868e+01 9.95848352e-03 2.56543407e-02\n",
      "  3.31990110e-02 1.02651538e-02 2.54141758e-02 4.97217582e-03\n",
      "  1.08238352e+01 2.29446154e+01 6.97957143e+01 3.58796703e+02\n",
      "  1.31465934e-01 1.64161758e-01 1.40192637e-01 5.34132967e-02\n",
      "  2.73173626e-01 8.52007692e-02]\n",
      " [1.72662222e+01 2.12826667e+01 1.13766667e+02 9.30031111e+02\n",
      "  9.96044444e-02 1.34278667e-01 1.40752222e-01 8.17808889e-02\n",
      "  1.90786667e-01 6.09995556e-02 5.76202222e-01 1.28895333e+00\n",
      "  4.13328889e+00 6.30108889e+01 6.40597778e-03 3.02990444e-02\n",
      "  3.75984444e-02 1.49950444e-02 2.00477778e-02 4.04933333e-03\n",
      "  2.05342222e+01 2.85542222e+01 1.36617778e+02 1.29620000e+03\n",
      "  1.38425333e-01 3.23276889e-01 3.89095556e-01 1.69770444e-01\n",
      "  3.12826667e-01 8.54171111e-02]\n",
      " [1.39387395e+01 1.90294958e+01 9.04831933e+01 6.00262185e+02\n",
      "  9.39314286e-02 1.00406387e-01 7.45220756e-02 4.14941345e-02\n",
      "  1.75155462e-01 6.16680672e-02 3.13209244e-01 1.08587899e+00\n",
      "  2.26420084e+00 2.71161345e+01 5.84906723e-03 2.42642689e-02\n",
      "  2.82606723e-02 1.11375714e-02 1.78284202e-02 3.49648571e-03\n",
      "  1.57033613e+01 2.55010924e+01 1.03702605e+02 7.57455462e+02\n",
      "  1.28325294e-01 2.62771765e-01 2.65218908e-01 1.12402101e-01\n",
      "  2.83356303e-01 8.43820168e-02]\n",
      " [2.01639286e+01 2.23175000e+01 1.33839286e+02 1.27034286e+03\n",
      "  1.03661429e-01 1.61940714e-01 2.03457143e-01 1.13268929e-01\n",
      "  1.93371429e-01 6.13875000e-02 7.59325000e-01 1.04652500e+00\n",
      "  5.33625000e+00 9.92639286e+01 5.98714286e-03 3.11100000e-02\n",
      "  4.32567857e-02 1.55998214e-02 1.75792857e-02 3.83653571e-03\n",
      "  2.56503571e+01 2.99082143e+01 1.71757143e+02 2.02017857e+03\n",
      "  1.45392857e-01 4.09489286e-01 5.29414286e-01 2.19757143e-01\n",
      "  3.21735714e-01 9.13457143e-02]\n",
      " [1.54638000e+01 2.02392000e+01 1.01397600e+02 7.40524000e+02\n",
      "  1.00539400e-01 1.25822000e-01 1.23348200e-01 6.54630000e-02\n",
      "  1.85918000e-01 6.26102000e-02 3.90868000e-01 1.03997400e+00\n",
      "  2.75976000e+00 3.72140000e+01 6.65860000e-03 2.82472800e-02\n",
      "  3.78898000e-02 1.35351000e-02 1.91477200e-02 3.67792000e-03\n",
      "  1.80026000e+01 2.75786000e+01 1.19620000e+02 9.92134000e+02\n",
      "  1.41392800e-01 3.39973200e-01 3.95144000e-01 1.54146800e-01\n",
      "  3.16380000e-01 9.00534000e-02]\n",
      " [2.36850000e+01 2.31566667e+01 1.56916667e+02 1.77366667e+03\n",
      "  1.02470000e-01 1.54020000e-01 2.17200000e-01 1.35818333e-01\n",
      "  1.82466667e-01 5.73900000e-02 1.04615000e+00 1.14798333e+00\n",
      "  7.03883333e+00 1.70916667e+02 5.63983333e-03 2.36733333e-02\n",
      "  3.28216667e-02 1.31516667e-02 1.60150000e-02 2.73416667e-03\n",
      "  3.18616667e+01 3.25450000e+01 2.12000000e+02 3.14583333e+03\n",
      "  1.46033333e-01 3.50783333e-01 4.78883333e-01 2.26750000e-01\n",
      "  2.93666667e-01 8.00400000e-02]]\n"
     ]
    }
   ],
   "source": [
    "kmeans = KMeans(n_clusters=10, random_state=106)\n",
    "prediction = kmeans.fit_predict(dataset.data)\n",
    "print(prediction)\n",
    "\n",
    "kmeans.cluster_centers_.shape\n",
    "print(kmeans.cluster_centers_)"
   ]
  },
  {
   "cell_type": "code",
   "execution_count": 7,
   "id": "bb874d23",
   "metadata": {},
   "outputs": [
    {
     "data": {
      "image/png": "[encoded data removed]",
      "text/plain": [
       "<Figure size 432x288 with 1 Axes>"
      ]
     },
     "metadata": {
      "needs_background": "light"
     },
     "output_type": "display_data"
    }
   ],
   "source": [
    "plt.scatter(dataset.data[:, 0], dataset.target)\n",
    "plt.scatter(kmeans.cluster_centers_[:, 0], kmeans.cluster_centers_[:, 1],c='red', marker='x')\n",
    "plt.title('Data points and cluster centroids')\n",
    "plt.show()"
   ]
  },
  {
   "cell_type": "code",
   "execution_count": 8,
   "id": "0f03deb7",
   "metadata": {},
   "outputs": [],
   "source": [
    "import numpy as np\n",
    "from scipy.stats import mode\n",
    "labels = np.zeros_like(prediction)\n",
    "for i in range(10):\n",
    "  mask = (prediction == i)\n",
    "  labels[mask] = mode(dataset.target[mask])[0]"
   ]
  },
  {
   "cell_type": "code",
   "execution_count": 9,
   "id": "9cdca172",
   "metadata": {},
   "outputs": [
    {
     "data": {
      "text/plain": [
       "0.9068541300527241"
      ]
     },
     "execution_count": 9,
     "metadata": {},
     "output_type": "execute_result"
    }
   ],
   "source": [
    "from sklearn.metrics import accuracy_score\n",
    "accuracy_score(dataset.target, labels)"
   ]
  },
  {
   "cell_type": "code",
   "execution_count": 10,
   "id": "417cd901",
   "metadata": {},
   "outputs": [
    {
     "data": {
      "text/plain": [
       "Text(91.68, 0.5, 'predicted label')"
      ]
     },
     "execution_count": 10,
     "metadata": {},
     "output_type": "execute_result"
    },
    {
     "data": {
      "image/png": "[encoded data removed]",
      "text/plain": [
       "<Figure size 432x288 with 1 Axes>"
      ]
     },
     "metadata": {
      "needs_background": "light"
     },
     "output_type": "display_data"
    }
   ],
   "source": [
    "from sklearn.metrics import confusion_matrix\n",
    "import seaborn as sns\n",
    "mat = confusion_matrix(dataset.target, labels)\n",
    "ax = sns.heatmap(mat.T, square=True, annot=True, fmt='d', cbar=False,xticklabels=dataset.target_names,yticklabels=dataset.target_names)\n",
    "\n",
    "#ax.set_ylim(10,10)\n",
    "plt.xlabel('true label')\n",
    "plt.ylabel('predicted label')"
   ]
  },
  {
   "cell_type": "code",
   "execution_count": null,
   "id": "e82d0cc7",
   "metadata": {},
   "outputs": [],
   "source": []
  }
 ],
 "metadata": {
  "kernelspec": {
   "display_name": "Python 3",
   "language": "python",
   "name": "python3"
  },
  "language_info": {
   "codemirror_mode": {
    "name": "ipython",
    "version": 3
   },
   "file_extension": ".py",
   "mimetype": "text/x-python",
   "name": "python",
   "nbconvert_exporter": "python",
   "pygments_lexer": "ipython3",
   "version": "3.8.9"
  }
 },
 "nbformat": 4,
 "nbformat_minor": 5
}
